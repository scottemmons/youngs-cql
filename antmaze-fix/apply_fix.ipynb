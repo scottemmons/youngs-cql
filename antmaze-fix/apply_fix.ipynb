{
 "cells": [
  {
   "cell_type": "code",
   "execution_count": 17,
   "metadata": {},
   "outputs": [],
   "source": [
    "from tqdm import tqdm\n",
    "import os\n",
    "import h5py"
   ]
  },
  {
   "cell_type": "code",
   "execution_count": 18,
   "metadata": {},
   "outputs": [],
   "source": [
    "urls = {\n",
    "    'antmaze-umaze-v0' : 'http://rail.eecs.berkeley.edu/datasets/offline_rl/ant_maze_new/Ant_maze_u-maze_noisy_multistart_False_multigoal_False_sparse.hdf5',\n",
    "    'antmaze-umaze-diverse-v0' : 'http://rail.eecs.berkeley.edu/datasets/offline_rl/ant_maze_new/Ant_maze_u-maze_noisy_multistart_True_multigoal_True_sparse.hdf5',\n",
    "    'antmaze-medium-play-v0' : 'http://rail.eecs.berkeley.edu/datasets/offline_rl/ant_maze_new/Ant_maze_big-maze_noisy_multistart_True_multigoal_False_sparse.hdf5',\n",
    "    'antmaze-medium-diverse-v0' : 'http://rail.eecs.berkeley.edu/datasets/offline_rl/ant_maze_new/Ant_maze_big-maze_noisy_multistart_True_multigoal_True_sparse.hdf5',\n",
    "    'antmaze-large-play-v0' : 'http://rail.eecs.berkeley.edu/datasets/offline_rl/ant_maze_new/Ant_maze_hardest-maze_noisy_multistart_True_multigoal_False_sparse.hdf5',\n",
    "    'antmaze-large-diverse-v0' : 'http://rail.eecs.berkeley.edu/datasets/offline_rl/ant_maze_new/Ant_maze_hardest-maze_noisy_multistart_True_multigoal_True_sparse.hdf5'\n",
    "}"
   ]
  },
  {
   "cell_type": "code",
   "execution_count": 45,
   "metadata": {},
   "outputs": [
    {
     "name": "stdout",
     "output_type": "stream",
     "text": [
      "<HDF5 file \"Ant_maze_u-maze_noisy_multistart_False_multigoal_False_sparse.hdf5\" (mode r)>\n"
     ]
    },
    {
     "name": "stderr",
     "output_type": "stream",
     "text": [
      "load datafile: 100%|██████████| 8/8 [00:01<00:00,  5.38it/s]\n"
     ]
    },
    {
     "name": "stdout",
     "output_type": "stream",
     "text": [
      "<HDF5 file \"Ant_maze_u-maze_noisy_multistart_True_multigoal_True_sparse.hdf5\" (mode r)>\n"
     ]
    },
    {
     "name": "stderr",
     "output_type": "stream",
     "text": [
      "load datafile: 100%|██████████| 8/8 [00:01<00:00,  5.46it/s]\n"
     ]
    },
    {
     "name": "stdout",
     "output_type": "stream",
     "text": [
      "<HDF5 file \"Ant_maze_big-maze_noisy_multistart_True_multigoal_False_sparse.hdf5\" (mode r)>\n"
     ]
    },
    {
     "name": "stderr",
     "output_type": "stream",
     "text": [
      "load datafile: 100%|██████████| 8/8 [00:01<00:00,  5.40it/s]\n"
     ]
    },
    {
     "name": "stdout",
     "output_type": "stream",
     "text": [
      "<HDF5 file \"Ant_maze_big-maze_noisy_multistart_True_multigoal_True_sparse.hdf5\" (mode r)>\n"
     ]
    },
    {
     "name": "stderr",
     "output_type": "stream",
     "text": [
      "load datafile: 100%|██████████| 8/8 [00:01<00:00,  5.49it/s]\n"
     ]
    },
    {
     "name": "stdout",
     "output_type": "stream",
     "text": [
      "<HDF5 file \"Ant_maze_hardest-maze_noisy_multistart_True_multigoal_False_sparse.hdf5\" (mode r)>\n"
     ]
    },
    {
     "name": "stderr",
     "output_type": "stream",
     "text": [
      "load datafile: 100%|██████████| 8/8 [00:01<00:00,  5.43it/s]\n"
     ]
    },
    {
     "name": "stdout",
     "output_type": "stream",
     "text": [
      "<HDF5 file \"Ant_maze_hardest-maze_noisy_multistart_True_multigoal_True_sparse.hdf5\" (mode r)>\n"
     ]
    },
    {
     "name": "stderr",
     "output_type": "stream",
     "text": [
      "load datafile: 100%|██████████| 8/8 [00:01<00:00,  5.49it/s]\n"
     ]
    }
   ],
   "source": [
    "def get_keys(h5file):\n",
    "    keys = []\n",
    "\n",
    "    def visitor(name, item):\n",
    "        if isinstance(item, h5py.Dataset):\n",
    "            keys.append(name)\n",
    "\n",
    "    h5file.visititems(visitor)\n",
    "    return keys\n",
    "\n",
    "def get_dict(filename):\n",
    "    data_dict = {}\n",
    "    with h5py.File(filename, 'r') as dataset_file:\n",
    "        print(dataset_file)\n",
    "        for k in tqdm(get_keys(dataset_file), desc=\"load datafile\"):\n",
    "            try:  # first try loading as an array\n",
    "                data_dict[k] = dataset_file[k][:]\n",
    "            except ValueError as e:  # try loading as a scalar\n",
    "                data_dict[k] = dataset_file[k][()]\n",
    "    return data_dict\n",
    "\n",
    "for env_name, url in urls.items():\n",
    "    filename = os.path.join('/home/kostrikov/.d4rl/datasets/', url.split('/')[-1])\n",
    "    time_limit = 701 if env_name == 'antmaze-umaze-v0' else 1001\n",
    "    data_dict = get_dict(filename)\n",
    "    data_dict['timeouts'].fill(False)\n",
    "    data_dict['timeouts'][time_limit-1::time_limit] = True\n",
    "    dataset = h5py.File(filename.replace('sparse', 'sparse_fixed'), 'w')\n",
    "    for k, v in data_dict.items():\n",
    "        dataset.create_dataset(k, data=v, compression='gzip')\n",
    "    dataset.close()"
   ]
  },
  {
   "cell_type": "code",
   "execution_count": null,
   "metadata": {},
   "outputs": [],
   "source": []
  }
 ],
 "metadata": {
  "interpreter": {
   "hash": "8dfbcd9521be80df80b68f26c3fd7e4b2e7856e1843632e38582e5d8f1d3f861"
  },
  "kernelspec": {
   "display_name": "Python 3.9.5 64-bit ('base': conda)",
   "name": "python3"
  },
  "language_info": {
   "codemirror_mode": {
    "name": "ipython",
    "version": 3
   },
   "file_extension": ".py",
   "mimetype": "text/x-python",
   "name": "python",
   "nbconvert_exporter": "python",
   "pygments_lexer": "ipython3",
   "version": "3.9.5"
  },
  "orig_nbformat": 4
 },
 "nbformat": 4,
 "nbformat_minor": 2
}
